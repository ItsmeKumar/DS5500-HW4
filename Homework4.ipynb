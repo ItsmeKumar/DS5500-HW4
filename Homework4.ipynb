{
 "cells": [
  {
   "cell_type": "markdown",
   "metadata": {},
   "source": [
    "# DS 5500 Assignment 4"
   ]
  },
  {
   "cell_type": "code",
   "execution_count": 1,
   "metadata": {},
   "outputs": [],
   "source": [
    "import pandas as pd\n",
    "import numpy as np\n",
    "import matplotlib.pyplot as plt\n",
    "%matplotlib inline\n",
    "import re"
   ]
  },
  {
   "cell_type": "code",
   "execution_count": 45,
   "metadata": {},
   "outputs": [],
   "source": [
    "math_data = pd.read_csv('./math-achievement-sch-sy2015-16.csv', low_memory=False)\n",
    "arts_data = pd.read_csv('./rla-achievement-sch-sy2015-16.csv', low_memory=False)\n",
    "fiscal_data = pd.read_csv('./Sdf16_1a.txt', sep='\\t', low_memory=False)"
   ]
  },
  {
   "cell_type": "markdown",
   "metadata": {},
   "source": [
    "## Problem 1"
   ]
  },
  {
   "cell_type": "markdown",
   "metadata": {},
   "source": [
    "For the districts you selected for budget cuts in HW 3 Problem 4, calculate and visualize the proportion of each district’s total funding that will be lost.\n",
    "Which districts will be affected by your budget cuts the most?"
   ]
  },
  {
   "cell_type": "code",
   "execution_count": 3,
   "metadata": {},
   "outputs": [
    {
     "name": "stdout",
     "output_type": "stream",
     "text": [
      "15% of the U.S. federal budget currently being spent on funding school districts: 8340411300\n"
     ]
    }
   ],
   "source": [
    "condition = fiscal_data['TFEDREV']>0\n",
    "cut_amount = int((fiscal_data.loc[condition, 'TFEDREV'].sum())*0.15)\n",
    "print('15% of the U.S. federal budget currently being spent on funding school districts:', cut_amount)"
   ]
  },
  {
   "cell_type": "code",
   "execution_count": 4,
   "metadata": {},
   "outputs": [
    {
     "name": "stdout",
     "output_type": "stream",
     "text": [
      "Ranking of school districts by cut in descending order:\n"
     ]
    },
    {
     "data": {
      "text/html": [
       "<div>\n",
       "<style scoped>\n",
       "    .dataframe tbody tr th:only-of-type {\n",
       "        vertical-align: middle;\n",
       "    }\n",
       "\n",
       "    .dataframe tbody tr th {\n",
       "        vertical-align: top;\n",
       "    }\n",
       "\n",
       "    .dataframe thead th {\n",
       "        text-align: right;\n",
       "    }\n",
       "</style>\n",
       "<table border=\"1\" class=\"dataframe\">\n",
       "  <thead>\n",
       "    <tr style=\"text-align: right;\">\n",
       "      <th></th>\n",
       "      <th>LEAID</th>\n",
       "      <th>CUT</th>\n",
       "      <th>PROPORTION</th>\n",
       "    </tr>\n",
       "  </thead>\n",
       "  <tbody>\n",
       "    <tr>\n",
       "      <th>1904</th>\n",
       "      <td>0622710</td>\n",
       "      <td>280561869.0</td>\n",
       "      <td>0.257066</td>\n",
       "    </tr>\n",
       "    <tr>\n",
       "      <th>3306</th>\n",
       "      <td>1500030</td>\n",
       "      <td>113901886.0</td>\n",
       "      <td>0.436187</td>\n",
       "    </tr>\n",
       "    <tr>\n",
       "      <th>15038</th>\n",
       "      <td>4218990</td>\n",
       "      <td>90139303.0</td>\n",
       "      <td>0.332165</td>\n",
       "    </tr>\n",
       "    <tr>\n",
       "      <th>9784</th>\n",
       "      <td>3200060</td>\n",
       "      <td>60848490.0</td>\n",
       "      <td>0.219173</td>\n",
       "    </tr>\n",
       "    <tr>\n",
       "      <th>3057</th>\n",
       "      <td>1201440</td>\n",
       "      <td>56389352.0</td>\n",
       "      <td>0.256337</td>\n",
       "    </tr>\n",
       "    <tr>\n",
       "      <th>6328</th>\n",
       "      <td>2400480</td>\n",
       "      <td>49165663.0</td>\n",
       "      <td>0.436187</td>\n",
       "    </tr>\n",
       "    <tr>\n",
       "      <th>6006</th>\n",
       "      <td>2201170</td>\n",
       "      <td>44611437.0</td>\n",
       "      <td>0.436187</td>\n",
       "    </tr>\n",
       "    <tr>\n",
       "      <th>7676</th>\n",
       "      <td>2680995</td>\n",
       "      <td>31849921.0</td>\n",
       "      <td>0.436187</td>\n",
       "    </tr>\n",
       "    <tr>\n",
       "      <th>5622</th>\n",
       "      <td>2012990</td>\n",
       "      <td>31376223.0</td>\n",
       "      <td>0.424164</td>\n",
       "    </tr>\n",
       "    <tr>\n",
       "      <th>3059</th>\n",
       "      <td>1201500</td>\n",
       "      <td>30676579.0</td>\n",
       "      <td>0.163717</td>\n",
       "    </tr>\n",
       "    <tr>\n",
       "      <th>15402</th>\n",
       "      <td>4502310</td>\n",
       "      <td>30562298.0</td>\n",
       "      <td>0.419708</td>\n",
       "    </tr>\n",
       "    <tr>\n",
       "      <th>6329</th>\n",
       "      <td>2400510</td>\n",
       "      <td>28893447.0</td>\n",
       "      <td>0.199253</td>\n",
       "    </tr>\n",
       "    <tr>\n",
       "      <th>3207</th>\n",
       "      <td>1302550</td>\n",
       "      <td>27456212.0</td>\n",
       "      <td>0.192367</td>\n",
       "    </tr>\n",
       "    <tr>\n",
       "      <th>2174</th>\n",
       "      <td>0635310</td>\n",
       "      <td>27252077.0</td>\n",
       "      <td>0.328093</td>\n",
       "    </tr>\n",
       "    <tr>\n",
       "      <th>3180</th>\n",
       "      <td>1301740</td>\n",
       "      <td>26772707.0</td>\n",
       "      <td>0.219921</td>\n",
       "    </tr>\n",
       "    <tr>\n",
       "      <th>11351</th>\n",
       "      <td>3605850</td>\n",
       "      <td>25488137.0</td>\n",
       "      <td>0.199954</td>\n",
       "    </tr>\n",
       "    <tr>\n",
       "      <th>2150</th>\n",
       "      <td>0634320</td>\n",
       "      <td>25404390.0</td>\n",
       "      <td>0.167767</td>\n",
       "    </tr>\n",
       "    <tr>\n",
       "      <th>3073</th>\n",
       "      <td>1201920</td>\n",
       "      <td>24586103.0</td>\n",
       "      <td>0.371330</td>\n",
       "    </tr>\n",
       "    <tr>\n",
       "      <th>2240</th>\n",
       "      <td>0638010</td>\n",
       "      <td>23912631.0</td>\n",
       "      <td>0.436187</td>\n",
       "    </tr>\n",
       "    <tr>\n",
       "      <th>6316</th>\n",
       "      <td>2400120</td>\n",
       "      <td>23599449.0</td>\n",
       "      <td>0.230788</td>\n",
       "    </tr>\n",
       "    <tr>\n",
       "      <th>16123</th>\n",
       "      <td>4811680</td>\n",
       "      <td>23024118.0</td>\n",
       "      <td>0.224999</td>\n",
       "    </tr>\n",
       "    <tr>\n",
       "      <th>6315</th>\n",
       "      <td>2400090</td>\n",
       "      <td>22410840.0</td>\n",
       "      <td>0.139301</td>\n",
       "    </tr>\n",
       "    <tr>\n",
       "      <th>2372</th>\n",
       "      <td>0691030</td>\n",
       "      <td>22403861.0</td>\n",
       "      <td>0.287443</td>\n",
       "    </tr>\n",
       "    <tr>\n",
       "      <th>2575</th>\n",
       "      <td>0804800</td>\n",
       "      <td>22224588.0</td>\n",
       "      <td>0.436187</td>\n",
       "    </tr>\n",
       "    <tr>\n",
       "      <th>7665</th>\n",
       "      <td>2680880</td>\n",
       "      <td>21884362.0</td>\n",
       "      <td>0.436187</td>\n",
       "    </tr>\n",
       "    <tr>\n",
       "      <th>6463</th>\n",
       "      <td>2502790</td>\n",
       "      <td>21321245.0</td>\n",
       "      <td>0.276200</td>\n",
       "    </tr>\n",
       "    <tr>\n",
       "      <th>3058</th>\n",
       "      <td>1201470</td>\n",
       "      <td>20721052.0</td>\n",
       "      <td>0.284505</td>\n",
       "    </tr>\n",
       "    <tr>\n",
       "      <th>3020</th>\n",
       "      <td>1200330</td>\n",
       "      <td>19990439.0</td>\n",
       "      <td>0.371908</td>\n",
       "    </tr>\n",
       "    <tr>\n",
       "      <th>15911</th>\n",
       "      <td>4800211</td>\n",
       "      <td>19737015.0</td>\n",
       "      <td>0.436187</td>\n",
       "    </tr>\n",
       "    <tr>\n",
       "      <th>1693</th>\n",
       "      <td>0612330</td>\n",
       "      <td>19698630.0</td>\n",
       "      <td>0.337554</td>\n",
       "    </tr>\n",
       "    <tr>\n",
       "      <th>...</th>\n",
       "      <td>...</td>\n",
       "      <td>...</td>\n",
       "      <td>...</td>\n",
       "    </tr>\n",
       "    <tr>\n",
       "      <th>6940</th>\n",
       "      <td>2600946</td>\n",
       "      <td>436.0</td>\n",
       "      <td>0.001166</td>\n",
       "    </tr>\n",
       "    <tr>\n",
       "      <th>12381</th>\n",
       "      <td>3805670</td>\n",
       "      <td>436.0</td>\n",
       "      <td>0.014065</td>\n",
       "    </tr>\n",
       "    <tr>\n",
       "      <th>3384</th>\n",
       "      <td>1600870</td>\n",
       "      <td>436.0</td>\n",
       "      <td>0.002224</td>\n",
       "    </tr>\n",
       "    <tr>\n",
       "      <th>6970</th>\n",
       "      <td>2600980</td>\n",
       "      <td>436.0</td>\n",
       "      <td>0.010900</td>\n",
       "    </tr>\n",
       "    <tr>\n",
       "      <th>3600</th>\n",
       "      <td>1700236</td>\n",
       "      <td>436.0</td>\n",
       "      <td>0.436000</td>\n",
       "    </tr>\n",
       "    <tr>\n",
       "      <th>9019</th>\n",
       "      <td>3000020</td>\n",
       "      <td>436.0</td>\n",
       "      <td>0.001163</td>\n",
       "    </tr>\n",
       "    <tr>\n",
       "      <th>7007</th>\n",
       "      <td>2601019</td>\n",
       "      <td>436.0</td>\n",
       "      <td>0.004688</td>\n",
       "    </tr>\n",
       "    <tr>\n",
       "      <th>3602</th>\n",
       "      <td>1700238</td>\n",
       "      <td>436.0</td>\n",
       "      <td>0.003230</td>\n",
       "    </tr>\n",
       "    <tr>\n",
       "      <th>3609</th>\n",
       "      <td>1700246</td>\n",
       "      <td>436.0</td>\n",
       "      <td>0.013212</td>\n",
       "    </tr>\n",
       "    <tr>\n",
       "      <th>12932</th>\n",
       "      <td>3901558</td>\n",
       "      <td>436.0</td>\n",
       "      <td>0.004275</td>\n",
       "    </tr>\n",
       "    <tr>\n",
       "      <th>9000</th>\n",
       "      <td>3000001</td>\n",
       "      <td>436.0</td>\n",
       "      <td>0.003726</td>\n",
       "    </tr>\n",
       "    <tr>\n",
       "      <th>8801</th>\n",
       "      <td>2922470</td>\n",
       "      <td>436.0</td>\n",
       "      <td>0.003230</td>\n",
       "    </tr>\n",
       "    <tr>\n",
       "      <th>6142</th>\n",
       "      <td>2308135</td>\n",
       "      <td>436.0</td>\n",
       "      <td>0.436000</td>\n",
       "    </tr>\n",
       "    <tr>\n",
       "      <th>6155</th>\n",
       "      <td>2309090</td>\n",
       "      <td>436.0</td>\n",
       "      <td>0.109000</td>\n",
       "    </tr>\n",
       "    <tr>\n",
       "      <th>10462</th>\n",
       "      <td>3408430</td>\n",
       "      <td>436.0</td>\n",
       "      <td>0.008720</td>\n",
       "    </tr>\n",
       "    <tr>\n",
       "      <th>17486</th>\n",
       "      <td>5009240</td>\n",
       "      <td>436.0</td>\n",
       "      <td>0.436000</td>\n",
       "    </tr>\n",
       "    <tr>\n",
       "      <th>14043</th>\n",
       "      <td>4019980</td>\n",
       "      <td>436.0</td>\n",
       "      <td>0.001530</td>\n",
       "    </tr>\n",
       "    <tr>\n",
       "      <th>13962</th>\n",
       "      <td>4014670</td>\n",
       "      <td>436.0</td>\n",
       "      <td>0.001468</td>\n",
       "    </tr>\n",
       "    <tr>\n",
       "      <th>12503</th>\n",
       "      <td>3880260</td>\n",
       "      <td>436.0</td>\n",
       "      <td>0.001309</td>\n",
       "    </tr>\n",
       "    <tr>\n",
       "      <th>12495</th>\n",
       "      <td>3880100</td>\n",
       "      <td>436.0</td>\n",
       "      <td>0.000655</td>\n",
       "    </tr>\n",
       "    <tr>\n",
       "      <th>9433</th>\n",
       "      <td>3024300</td>\n",
       "      <td>436.0</td>\n",
       "      <td>0.001563</td>\n",
       "    </tr>\n",
       "    <tr>\n",
       "      <th>13750</th>\n",
       "      <td>4000788</td>\n",
       "      <td>436.0</td>\n",
       "      <td>0.001751</td>\n",
       "    </tr>\n",
       "    <tr>\n",
       "      <th>5833</th>\n",
       "      <td>2200047</td>\n",
       "      <td>436.0</td>\n",
       "      <td>0.001074</td>\n",
       "    </tr>\n",
       "    <tr>\n",
       "      <th>2017</th>\n",
       "      <td>0627900</td>\n",
       "      <td>436.0</td>\n",
       "      <td>0.000741</td>\n",
       "    </tr>\n",
       "    <tr>\n",
       "      <th>17829</th>\n",
       "      <td>5300450</td>\n",
       "      <td>436.0</td>\n",
       "      <td>0.015571</td>\n",
       "    </tr>\n",
       "    <tr>\n",
       "      <th>7973</th>\n",
       "      <td>2700422</td>\n",
       "      <td>436.0</td>\n",
       "      <td>0.006812</td>\n",
       "    </tr>\n",
       "    <tr>\n",
       "      <th>644</th>\n",
       "      <td>0400844</td>\n",
       "      <td>436.0</td>\n",
       "      <td>0.012457</td>\n",
       "    </tr>\n",
       "    <tr>\n",
       "      <th>6131</th>\n",
       "      <td>2307200</td>\n",
       "      <td>436.0</td>\n",
       "      <td>0.436000</td>\n",
       "    </tr>\n",
       "    <tr>\n",
       "      <th>4375</th>\n",
       "      <td>1735940</td>\n",
       "      <td>436.0</td>\n",
       "      <td>0.000790</td>\n",
       "    </tr>\n",
       "    <tr>\n",
       "      <th>12742</th>\n",
       "      <td>3900568</td>\n",
       "      <td>436.0</td>\n",
       "      <td>0.003545</td>\n",
       "    </tr>\n",
       "  </tbody>\n",
       "</table>\n",
       "<p>11324 rows × 3 columns</p>\n",
       "</div>"
      ],
      "text/plain": [
       "         LEAID          CUT  PROPORTION\n",
       "1904   0622710  280561869.0    0.257066\n",
       "3306   1500030  113901886.0    0.436187\n",
       "15038  4218990   90139303.0    0.332165\n",
       "9784   3200060   60848490.0    0.219173\n",
       "3057   1201440   56389352.0    0.256337\n",
       "6328   2400480   49165663.0    0.436187\n",
       "6006   2201170   44611437.0    0.436187\n",
       "7676   2680995   31849921.0    0.436187\n",
       "5622   2012990   31376223.0    0.424164\n",
       "3059   1201500   30676579.0    0.163717\n",
       "15402  4502310   30562298.0    0.419708\n",
       "6329   2400510   28893447.0    0.199253\n",
       "3207   1302550   27456212.0    0.192367\n",
       "2174   0635310   27252077.0    0.328093\n",
       "3180   1301740   26772707.0    0.219921\n",
       "11351  3605850   25488137.0    0.199954\n",
       "2150   0634320   25404390.0    0.167767\n",
       "3073   1201920   24586103.0    0.371330\n",
       "2240   0638010   23912631.0    0.436187\n",
       "6316   2400120   23599449.0    0.230788\n",
       "16123  4811680   23024118.0    0.224999\n",
       "6315   2400090   22410840.0    0.139301\n",
       "2372   0691030   22403861.0    0.287443\n",
       "2575   0804800   22224588.0    0.436187\n",
       "7665   2680880   21884362.0    0.436187\n",
       "6463   2502790   21321245.0    0.276200\n",
       "3058   1201470   20721052.0    0.284505\n",
       "3020   1200330   19990439.0    0.371908\n",
       "15911  4800211   19737015.0    0.436187\n",
       "1693   0612330   19698630.0    0.337554\n",
       "...        ...          ...         ...\n",
       "6940   2600946        436.0    0.001166\n",
       "12381  3805670        436.0    0.014065\n",
       "3384   1600870        436.0    0.002224\n",
       "6970   2600980        436.0    0.010900\n",
       "3600   1700236        436.0    0.436000\n",
       "9019   3000020        436.0    0.001163\n",
       "7007   2601019        436.0    0.004688\n",
       "3602   1700238        436.0    0.003230\n",
       "3609   1700246        436.0    0.013212\n",
       "12932  3901558        436.0    0.004275\n",
       "9000   3000001        436.0    0.003726\n",
       "8801   2922470        436.0    0.003230\n",
       "6142   2308135        436.0    0.436000\n",
       "6155   2309090        436.0    0.109000\n",
       "10462  3408430        436.0    0.008720\n",
       "17486  5009240        436.0    0.436000\n",
       "14043  4019980        436.0    0.001530\n",
       "13962  4014670        436.0    0.001468\n",
       "12503  3880260        436.0    0.001309\n",
       "12495  3880100        436.0    0.000655\n",
       "9433   3024300        436.0    0.001563\n",
       "13750  4000788        436.0    0.001751\n",
       "5833   2200047        436.0    0.001074\n",
       "2017   0627900        436.0    0.000741\n",
       "17829  5300450        436.0    0.015571\n",
       "7973   2700422        436.0    0.006812\n",
       "644    0400844        436.0    0.012457\n",
       "6131   2307200        436.0    0.436000\n",
       "4375   1735940        436.0    0.000790\n",
       "12742  3900568        436.0    0.003545\n",
       "\n",
       "[11324 rows x 3 columns]"
      ]
     },
     "execution_count": 4,
     "metadata": {},
     "output_type": "execute_result"
    }
   ],
   "source": [
    "condition = (fiscal_data['TOTALREV']>0) & (fiscal_data['TOTALEXP']>0)\n",
    "cut_rev = fiscal_data.assign(DEBT = fiscal_data['TOTALEXP'] - fiscal_data['TOTALREV']).query('DEBT<0')\n",
    "cut_rev['LEAID'] = cut_rev['LEAID'].astype(str)\n",
    "cut_rev['DEBT'] = -cut_rev['DEBT']\n",
    "cut_rev = cut_rev.assign(AVAILABLE_CUT = cut_rev[['DEBT','TFEDREV']].min(axis=1))\n",
    "available_amount = cut_rev['AVAILABLE_CUT'].sum()\n",
    "cut_rev['CUT'] = (cut_amount/available_amount)*cut_rev['AVAILABLE_CUT']\n",
    "cut_rev['CUT'] = round(cut_rev['CUT'])\n",
    "cut_rev = cut_rev.query('CUT>0')\n",
    "cut_rev['PROPORTION'] = cut_rev['CUT']/cut_rev['TFEDREV']\n",
    "\n",
    "print('Ranking of school districts by cut in descending order:')\n",
    "cut_rev = cut_rev.sort_values('CUT', ascending=False)\n",
    "cut_rev[['LEAID','CUT','PROPORTION']]"
   ]
  },
  {
   "cell_type": "code",
   "execution_count": 5,
   "metadata": {},
   "outputs": [
    {
     "data": {
      "image/png": "[encoded data removed]",
      "text/plain": [
       "<Figure size 432x288 with 1 Axes>"
      ]
     },
     "metadata": {
      "needs_background": "light"
     },
     "output_type": "display_data"
    }
   ],
   "source": [
    "cut_rev['PROPORTION'].hist()\n",
    "plt.title('Proportion of total cut for selected schools');"
   ]
  },
  {
   "cell_type": "code",
   "execution_count": 6,
   "metadata": {},
   "outputs": [
    {
     "data": {
      "image/png": "[encoded data removed]",
      "text/plain": [
       "<Figure size 432x288 with 1 Axes>"
      ]
     },
     "metadata": {
      "needs_background": "light"
     },
     "output_type": "display_data"
    }
   ],
   "source": [
    "plt.barh(cut_rev['NAME'][0:10], cut_rev['CUT'][0:10])\n",
    "plt.xlabel(\"Cut Amount $\")\n",
    "plt.title(\"Top 10 school disticts taking highest cut\");"
   ]
  },
  {
   "cell_type": "markdown",
   "metadata": {},
   "source": [
    "## Problem 2"
   ]
  },
  {
   "cell_type": "markdown",
   "metadata": {},
   "source": [
    "A common problem with purely data-driven solutions is that they can inadvertently perpetuate hidden pre-existing biases in the data, and further disadvantage groups that are already disadvantaged.\n",
    "Calculate the proportion of enrolled students by race for each district, then visualize the distributions of these for districts that received budget cuts versus districts that did not receive budget cuts.\n",
    "Comment on whether the the distributions appear to be the same or different. Did your selection include any hidden biases, or manage to avoid them?"
   ]
  },
  {
   "cell_type": "code",
   "execution_count": 47,
   "metadata": {},
   "outputs": [],
   "source": [
    "demographics = pd.read_csv('./ccd_lea_052_1516_w_1a_011717.csv', low_memory=False)\n",
    "demographics = demographics.query('TOTAL>=0')\n",
    "demographics = demographics.rename(columns={'AM':'American Indian/Alaska Native','AS':'Asian','HI':'Hispanic', 'BL':'Black',\n",
    "                            'WH':'White','HP':'Hawaiian Native / Pacific Islander', 'TR':'Two or More Races'})"
   ]
  },
  {
   "cell_type": "code",
   "execution_count": 8,
   "metadata": {},
   "outputs": [],
   "source": [
    "demographics = (\n",
    "    demographics[['American Indian/Alaska Native','Asian','Hispanic','Black','White','Hawaiian Native / Pacific Islander','Two or More Races']]\n",
    "    .div(demographics.TOTAL, axis=0)\n",
    "    .assign(LEAID = demographics['LEAID'])\n",
    ")\n",
    "demographics['LEAID'] = demographics['LEAID'].astype(str)"
   ]
  },
  {
   "cell_type": "code",
   "execution_count": 9,
   "metadata": {},
   "outputs": [],
   "source": [
    "budg_cut = demographics[demographics['LEAID'].isin(cut_rev['LEAID'])].drop('LEAID', axis=1).mean().reset_index().rename(columns = {0:'Budget Cut'})\n",
    "no_budg_cut = demographics[~demographics['LEAID'].isin(cut_rev['LEAID'])].drop('LEAID', axis=1).mean().reset_index().rename(columns = {0:'No Budget Cut'})\n",
    "race_dist = pd.merge(budg_cut, no_budg_cut, on = 'index', how='inner').rename(columns={'index':'Race'})"
   ]
  },
  {
   "cell_type": "code",
   "execution_count": 10,
   "metadata": {},
   "outputs": [
    {
     "data": {
      "text/html": [
       "<div>\n",
       "<style scoped>\n",
       "    .dataframe tbody tr th:only-of-type {\n",
       "        vertical-align: middle;\n",
       "    }\n",
       "\n",
       "    .dataframe tbody tr th {\n",
       "        vertical-align: top;\n",
       "    }\n",
       "\n",
       "    .dataframe thead th {\n",
       "        text-align: right;\n",
       "    }\n",
       "</style>\n",
       "<table border=\"1\" class=\"dataframe\">\n",
       "  <thead>\n",
       "    <tr style=\"text-align: right;\">\n",
       "      <th></th>\n",
       "      <th>Race</th>\n",
       "      <th>Budget Cut</th>\n",
       "      <th>No Budget Cut</th>\n",
       "    </tr>\n",
       "  </thead>\n",
       "  <tbody>\n",
       "    <tr>\n",
       "      <th>0</th>\n",
       "      <td>American Indian/Alaska Native</td>\n",
       "      <td>0.021995</td>\n",
       "      <td>0.030712</td>\n",
       "    </tr>\n",
       "    <tr>\n",
       "      <th>1</th>\n",
       "      <td>Asian</td>\n",
       "      <td>0.018803</td>\n",
       "      <td>0.026263</td>\n",
       "    </tr>\n",
       "    <tr>\n",
       "      <th>2</th>\n",
       "      <td>Hispanic</td>\n",
       "      <td>0.122228</td>\n",
       "      <td>0.199912</td>\n",
       "    </tr>\n",
       "    <tr>\n",
       "      <th>3</th>\n",
       "      <td>Black</td>\n",
       "      <td>0.105066</td>\n",
       "      <td>0.142116</td>\n",
       "    </tr>\n",
       "    <tr>\n",
       "      <th>4</th>\n",
       "      <td>White</td>\n",
       "      <td>0.701833</td>\n",
       "      <td>0.566853</td>\n",
       "    </tr>\n",
       "    <tr>\n",
       "      <th>5</th>\n",
       "      <td>Hawaiian Native / Pacific Islander</td>\n",
       "      <td>0.001092</td>\n",
       "      <td>0.001833</td>\n",
       "    </tr>\n",
       "    <tr>\n",
       "      <th>6</th>\n",
       "      <td>Two or More Races</td>\n",
       "      <td>0.028778</td>\n",
       "      <td>0.032018</td>\n",
       "    </tr>\n",
       "  </tbody>\n",
       "</table>\n",
       "</div>"
      ],
      "text/plain": [
       "                                 Race  Budget Cut  No Budget Cut\n",
       "0       American Indian/Alaska Native    0.021995       0.030712\n",
       "1                               Asian    0.018803       0.026263\n",
       "2                            Hispanic    0.122228       0.199912\n",
       "3                               Black    0.105066       0.142116\n",
       "4                               White    0.701833       0.566853\n",
       "5  Hawaiian Native / Pacific Islander    0.001092       0.001833\n",
       "6                   Two or More Races    0.028778       0.032018"
      ]
     },
     "execution_count": 10,
     "metadata": {},
     "output_type": "execute_result"
    }
   ],
   "source": [
    "race_dist"
   ]
  },
  {
   "cell_type": "code",
   "execution_count": 11,
   "metadata": {},
   "outputs": [
    {
     "data": {
      "image/png": "[encoded data removed]",
      "text/plain": [
       "<Figure size 1080x504 with 1 Axes>"
      ]
     },
     "metadata": {
      "needs_background": "light"
     },
     "output_type": "display_data"
    }
   ],
   "source": [
    "race_dist.plot(x=\"Race\", y=[\"Budget Cut\", \"No Budget Cut\"], kind=\"bar\", figsize=(15,7))\n",
    "plt.xticks(rotation=15);"
   ]
  },
  {
   "cell_type": "markdown",
   "metadata": {},
   "source": [
    "The distributions do have differences. White students are 23% higher in proportion in the schools that were selected for budget cuts compared to the proportion in no budget cuts. Students of all the other races have an opposite trend. The model do have some biasess included."
   ]
  },
  {
   "cell_type": "markdown",
   "metadata": {},
   "source": [
    "## Problem 3"
   ]
  },
  {
   "cell_type": "code",
   "execution_count": 50,
   "metadata": {},
   "outputs": [],
   "source": [
    "demographics = pd.read_csv('./ccd_lea_052_1516_w_1a_011717.csv', low_memory=False)\n",
    "demographics['LEAID'] = demographics['LEAID'].astype(str)\n",
    "disability = pd.read_csv('./ccd_lea_002089_1516_w_1a_011717.csv', low_memory=False)\n",
    "disability['LEAID'] = disability['LEAID'].astype(str)"
   ]
  },
  {
   "cell_type": "code",
   "execution_count": 31,
   "metadata": {},
   "outputs": [],
   "source": [
    "disability = pd.merge(disability, demographics[['LEAID', 'TOTAL']], on='LEAID', how='inner').query('TOTAL>0 and SPECED>0')\n",
    "disability['Proportion'] = disability['SPECED']/disability['TOTAL']"
   ]
  },
  {
   "cell_type": "code",
   "execution_count": 14,
   "metadata": {},
   "outputs": [],
   "source": [
    "disb_prop = pd.DataFrame(data={'Budget Cut': [None], 'No Budget Cut': [None]})"
   ]
  },
  {
   "cell_type": "code",
   "execution_count": 20,
   "metadata": {},
   "outputs": [],
   "source": [
    "disb_prop.loc[0] =  ([\n",
    "    disability.loc[disability['LEAID'].isin(cut_rev['LEAID']), 'Proportion'].mean(), \n",
    "    disability.loc[~disability['LEAID'].isin(cut_rev['LEAID']), 'Proportion'].mean()\n",
    "])\n",
    "disb_prop = disb_prop.T.reset_index()"
   ]
  },
  {
   "cell_type": "code",
   "execution_count": 44,
   "metadata": {},
   "outputs": [
    {
     "data": {
      "image/png": "[encoded data removed]",
      "text/plain": [
       "<Figure size 432x288 with 1 Axes>"
      ]
     },
     "metadata": {
      "needs_background": "light"
     },
     "output_type": "display_data"
    }
   ],
   "source": [
    "bins = np.linspace(0, 1, 100)\n",
    "plt.hist(disability.loc[disability['LEAID'].isin(cut_rev['LEAID']), 'Proportion'], bins, alpha=0.5, label='Budget Cut')\n",
    "plt.hist(disability.loc[~disability['LEAID'].isin(cut_rev['LEAID']), 'Proportion'], bins, alpha=0.5, label='No Budget Cut')\n",
    "plt.legend(loc='upper right')\n",
    "plt.title('Proportion of disabled students')\n",
    "plt.show();"
   ]
  },
  {
   "cell_type": "code",
   "execution_count": 29,
   "metadata": {},
   "outputs": [
    {
     "data": {
      "image/png": "[encoded data removed]",
      "text/plain": [
       "<Figure size 432x288 with 1 Axes>"
      ]
     },
     "metadata": {
      "needs_background": "light"
     },
     "output_type": "display_data"
    }
   ],
   "source": [
    "plt.bar(disb_prop['index'],disb_prop[0])\n",
    "plt.title('Proportion of disabled students');"
   ]
  },
  {
   "cell_type": "markdown",
   "metadata": {},
   "source": [
    "The budget cut is slightly higher in the school districts with low proportion of disabled students. But, the distributions still look similar and the hidden bias is not very significant."
   ]
  },
  {
   "cell_type": "markdown",
   "metadata": {},
   "source": [
    "## Problem 4"
   ]
  },
  {
   "cell_type": "markdown",
   "metadata": {},
   "source": [
    "I chose to critique Tian Sang's HW3 solution for this problem. Link - https://github.com/stiangithub/HW3\n",
    "\n",
    "Tian's solution is to cut 15% budget from all school districts. Instead of cutting same amount from each school district, Tian suggested to cut equal proportion of funding.\n",
    "\n",
    "Although this method seems to be unbiased, I think there is an important thing that should have also been taken into account. For schools that have expenditure greater than revenue, cutting more revenue could push them into debts. May be cutting equal proportion of funding by selecting schools that are self sustainable could solve this problem."
   ]
  },
  {
   "cell_type": "markdown",
   "metadata": {},
   "source": [
    "## Problem 5"
   ]
  },
  {
   "cell_type": "markdown",
   "metadata": {},
   "source": [
    "I chose to summarize and comment on Map Reduce and Hadoop lecture by Prof. Jan Vitek. A breif overview of the history of Map Reduce and Hadoop was informative. The lecture provided a good understanding of implementation of map and reduce sub routines which was followed up by some interesting examples. I got a better understanding of the basics of how parallelization is done is big data systems to efficiently process the information. Overall, the lecture has a very nice explanation of development and working of Map Reduce and Hadoop which I find would be very helpful to dig deep into domain. "
   ]
  }
 ],
 "metadata": {
  "kernelspec": {
   "display_name": "Python 3",
   "language": "python",
   "name": "python3"
  },
  "language_info": {
   "codemirror_mode": {
    "name": "ipython",
    "version": 3
   },
   "file_extension": ".py",
   "mimetype": "text/x-python",
   "name": "python",
   "nbconvert_exporter": "python",
   "pygments_lexer": "ipython3",
   "version": "3.7.3"
  }
 },
 "nbformat": 4,
 "nbformat_minor": 2
}
